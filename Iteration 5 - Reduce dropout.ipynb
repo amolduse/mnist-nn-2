{
  "nbformat": 4,
  "nbformat_minor": 0,
  "metadata": {
    "colab": {
      "provenance": []
    },
    "kernelspec": {
      "name": "python3",
      "display_name": "Python 3"
    },
    "language_info": {
      "name": "python"
    }
  },
  "cells": [
    {
      "cell_type": "code",
      "source": [
        "import torch\n",
        "import torch.nn as nn\n",
        "import torch.nn.functional as F\n",
        "import torch.optim as optim\n",
        "from torchvision import datasets, transforms\n",
        "import matplotlib.pyplot as plt\n",
        "from tqdm import tqdm\n",
        "\n",
        "# CUDA?\n",
        "cuda = torch.cuda.is_available()\n",
        "\n",
        "# Train data transformations\n",
        "train_transforms = transforms.Compose([\n",
        "    transforms.RandomApply([transforms.CenterCrop(22), ], p=0.1),\n",
        "    transforms.Resize((28, 28)),\n",
        "    transforms.RandomRotation((-15., 15.), fill=0),\n",
        "    transforms.ToTensor(),\n",
        "    transforms.Normalize((0.1307,), (0.3081,)),\n",
        "    ])\n",
        "\n",
        "# Test data transformations\n",
        "test_transforms = transforms.Compose([\n",
        "    transforms.ToTensor(),\n",
        "    transforms.Normalize((0.1307,), (0.3081,))\n",
        "    ])\n",
        "\n",
        "train_data = datasets.MNIST('../data', train=True, download=True, transform=train_transforms)\n",
        "test_data = datasets.MNIST('../data', train=False, download=True, transform=test_transforms)\n",
        "\n",
        "batch_size = 512\n",
        "\n",
        "train_kwargs = {'batch_size': batch_size, 'shuffle': True, 'num_workers': 2, 'pin_memory': True}\n",
        "test_kwargs = {'batch_size': batch_size, 'shuffle': False, 'num_workers': 2, 'pin_memory': True}\n",
        "\n",
        "train_loader = torch.utils.data.DataLoader(train_data, **train_kwargs)\n",
        "test_loader = torch.utils.data.DataLoader(test_data, **test_kwargs)\n",
        "\n",
        "class Net(nn.Module):\n",
        "    #This defines the structure of the NN.\n",
        "    def __init__(self):\n",
        "        super(Net, self).__init__()\n",
        "        #28X28\n",
        "        self.conv1 = nn.Conv2d(1, 8, kernel_size=3, padding=1) # 28X28X8\n",
        "        self.bn1 = nn.BatchNorm2d(8)   # 28x28X8\n",
        "        self.conv2 = nn.Conv2d(8, 16, kernel_size=3, padding=1) # 28X28X16\n",
        "        self.bn2 = nn.BatchNorm2d(16)   # 28X28X16\n",
        "        self.pool1 = nn.MaxPool2d(2, 2) # 14X14X16\n",
        "        self.conv3 = nn.Conv2d(16, 32, kernel_size=3) # 12X12X32\n",
        "        self.bn3 = nn.BatchNorm2d(32)   # 12X12X32\n",
        "        self.pool2 = nn.MaxPool2d(2, 2) # 6X6X32\n",
        "        self.conv4 = nn.Conv2d(32, 8, kernel_size=1) # 6X6X8\n",
        "        self.conv5 = nn.Conv2d(8, 16, kernel_size=3) # 4X4X16\n",
        "        self.bn4 = nn.BatchNorm2d(16)   # 4X4X16\n",
        "        self.fc1 = nn.Linear(16*4*4, 45)\n",
        "        self.drop = nn.Dropout(p=0.1)\n",
        "        self.fc2 = nn.Linear(45, 10)\n",
        "\n",
        "    def forward(self, x):\n",
        "        x = F.relu(self.bn1(self.conv1(x)), 2)\n",
        "        x = F.relu(self.bn2(self.conv2(x)), 2)\n",
        "        x = self.pool1(x)\n",
        "        x = F.relu(self.bn3(self.conv3(x)), 2)\n",
        "        x = self.pool2(x)\n",
        "        x = self.conv4(x)\n",
        "        x = F.relu(self.bn4(self.conv5(x)), 2)\n",
        "        x = x.view(-1,16*4*4)\n",
        "        x = F.relu(self.fc1(x))\n",
        "        x = self.drop(self.fc2(x))\n",
        "        return F.log_softmax(x, dim=1)\n",
        "\n",
        "# class Net(nn.Module):\n",
        "#     #This defines the structure of the NN.\n",
        "#     def __init__(self):\n",
        "#         super(Net, self).__init__()\n",
        "#         self.conv1 = nn.Conv2d(1, 8, 3)   # 28x28 -> 26x26\n",
        "#         self.bn1 = nn.BatchNorm2d(8)   # 26x26 -> 26x26\n",
        "\n",
        "#         self.conv2 = nn.Conv2d(8, 16, 3)  # 26x26 -> 24x24\n",
        "#         self.bn2 = nn.BatchNorm2d(16)  # 26x26 -> 24x24\n",
        "#         self.pool1 = nn.MaxPool2d(2, 2) # 24x24 -> 12x12\n",
        "\n",
        "#         self.conv3 = nn.Conv2d(16, 32, 3)  # 24x24 -> 22x22\n",
        "#         self.bn3 = nn.BatchNorm2d(32)  # 22x22 -> 22x22\n",
        "\n",
        "#         self.conv4 = nn.Conv2d(32, 64, 3)  # 11x11 -> 9x9\n",
        "#         self.bn4 = nn.BatchNorm2d(64)  # 9x9 -> 9x9\n",
        "\n",
        "#         self.conv5 = nn.Conv2d(64, 128, 3)  # 9x9 -> 7x7\n",
        "#         self.bn5 = nn.BatchNorm2d(128)  # 7x7 -> 7x7\n",
        "\n",
        "#         self.conv6 = nn.Conv2d(128, 256, 3)  # 7x7 -> 5x5\n",
        "#         self.bn6 = nn.BatchNorm2d(256)  # 5x5 -> 5x5\n",
        "\n",
        "#         self.conv7 = nn.Conv2d(256, 128, 1)  # 5x5 -> 5x5\n",
        "#         self.bn7 = nn.BatchNorm2d(128)  # 5x5 -> 5x5\n",
        "\n",
        "#         self.conv8 = nn.Conv2d(128, 128, 1)  # 5x5 -> 3x3\n",
        "#         self.bn8 = nn.BatchNorm2d(128)  # 3x3 -> 3x3\n",
        "\n",
        "\n",
        "#         self.fc1 = nn.Linear(128*5*5, 128)\n",
        "#         self.drop = nn.Dropout(p=0.1)\n",
        "#         self.fc2 = nn.Linear(128, 10)\n",
        "\n",
        "#     def forward(self, x):\n",
        "#         x = F.relu(self.bn1(self.conv1(x)))\n",
        "#         x = F.relu(self.bn2(self.conv2(x)))\n",
        "#         x = self.pool(F.relu(self.bn3(self.conv3(x))))\n",
        "#         x = F.relu(self.bn4(self.conv4(x)))\n",
        "#         x = F.relu(self.bn5(self.conv5(x)))\n",
        "#         x = F.relu(self.bn6(self.conv6(x)))\n",
        "#         x = F.relu(self.bn7(self.conv7(x)))\n",
        "#         x = F.relu(self.bn8(self.conv8(x)))\n",
        "#         x = x.view(x.size(0), -1)\n",
        "#         x = F.relu(self.fc1(x))\n",
        "#         x = self.drop(x)\n",
        "#         x = self.fc2(x)\n",
        "#         return F.log_softmax(x, dim=1)\n",
        "\n",
        "# class Net(nn.Module):\n",
        "#     #This defines the structure of the NN.\n",
        "#     def __init__(self):\n",
        "#         super(Net, self).__init__()\n",
        "#         self.conv1 = nn.Conv2d(1, 32, 3, padding=1)   # 28x28 -> 28x28\n",
        "#         self.conv2 = nn.Conv2d(32, 64, 3, padding=1)  # 28x28 -> 28x28\n",
        "#         self.pool = nn.MaxPool2d(2, 2)                # 28x28 -> 14x14\n",
        "#         self.fc1 = nn.Linear(64*14*14, 128)\n",
        "#         self.fc2 = nn.Linear(128, 10)\n",
        "\n",
        "#     def forward(self, x):\n",
        "#         x = F.relu(self.conv1(x))\n",
        "#         x = self.pool(F.relu(self.conv2(x)))\n",
        "#         x = x.view(x.size(0), -1)\n",
        "#         x = F.relu(self.fc1(x))\n",
        "#         x = self.fc2(x)\n",
        "#         return F.log_softmax(x, dim=1)\n",
        "\n",
        "# Data to plot accuracy and loss graphs\n",
        "train_losses = []\n",
        "test_losses = []\n",
        "train_acc = []\n",
        "test_acc = []\n",
        "\n",
        "test_incorrect_pred = {'images': [], 'ground_truths': [], 'predicted_vals': []}\n",
        "\n",
        "def GetCorrectPredCount(pPrediction, pLabels):\n",
        "  return pPrediction.argmax(dim=1).eq(pLabels).sum().item()\n",
        "\n",
        "def train(model, device, train_loader, optimizer, criterion):\n",
        "  model.train()\n",
        "  pbar = tqdm(train_loader)\n",
        "\n",
        "  train_loss = 0\n",
        "  correct = 0\n",
        "  processed = 0\n",
        "\n",
        "  for batch_idx, (data, target) in enumerate(pbar):\n",
        "    data, target = data.to(device), target.to(device)\n",
        "    optimizer.zero_grad()\n",
        "\n",
        "    # Predict\n",
        "    pred = model(data)\n",
        "\n",
        "    # Calculate loss\n",
        "    loss = criterion(pred, target)\n",
        "    train_loss+=loss.item()\n",
        "\n",
        "    # Backpropagation\n",
        "    loss.backward()\n",
        "    optimizer.step()\n",
        "\n",
        "    correct += GetCorrectPredCount(pred, target)\n",
        "    processed += len(data)\n",
        "\n",
        "    pbar.set_description(desc= f'Train: Loss={loss.item():0.4f} Batch_id={batch_idx} Accuracy={100*correct/processed:0.2f}')\n",
        "\n",
        "  train_acc.append(100*correct/processed)\n",
        "  train_losses.append(train_loss/len(train_loader))\n",
        "\n",
        "def test(model, device, test_loader, criterion):\n",
        "    model.eval()\n",
        "\n",
        "    test_loss = 0\n",
        "    correct = 0\n",
        "\n",
        "    with torch.no_grad():\n",
        "        for batch_idx, (data, target) in enumerate(test_loader):\n",
        "            data, target = data.to(device), target.to(device)\n",
        "\n",
        "            output = model(data)\n",
        "            test_loss += criterion(output, target).item()  # sum up batch loss\n",
        "\n",
        "            correct += GetCorrectPredCount(output, target)\n",
        "\n",
        "\n",
        "    test_loss /= len(test_loader.dataset)\n",
        "    test_acc.append(100. * correct / len(test_loader.dataset))\n",
        "    test_losses.append(test_loss)\n",
        "\n",
        "    print('Test set: Average loss: {:.4f}, Accuracy: {}/{} ({:.2f}%)\\n'.format(\n",
        "        test_loss, correct, len(test_loader.dataset),\n",
        "        100. * correct / len(test_loader.dataset)))\n",
        "\n",
        "device = torch.device(\"cuda\" if torch.cuda.is_available() else \"cpu\")\n",
        "model = Net().to(device)\n",
        "optimizer = optim.Adam(model.parameters(), lr=1e-3)   # faster convergence\n",
        "scheduler = optim.lr_scheduler.StepLR(optimizer, step_size=15, gamma=0.1)\n",
        "# New Line\n",
        "criterion = nn.CrossEntropyLoss()\n",
        "num_epochs = 20\n",
        "\n",
        "for epoch in range(1, num_epochs+1):\n",
        "  print(f'Epoch {epoch}')\n",
        "  train(model, device, train_loader, optimizer, criterion)\n",
        "  test(model, device, train_loader, criterion)\n",
        "  #scheduler.step()\n",
        "\n",
        "fig, axs = plt.subplots(2,2,figsize=(15,10))\n",
        "axs[0, 0].plot(train_losses)\n",
        "axs[0, 0].set_title(\"Training Loss\")\n",
        "axs[1, 0].plot(train_acc)\n",
        "axs[1, 0].set_title(\"Training Accuracy\")\n",
        "axs[0, 1].plot(test_losses)\n",
        "axs[0, 1].set_title(\"Test Loss\")\n",
        "axs[1, 1].plot(test_acc)\n",
        "axs[1, 1].set_title(\"Test Accuracy\")\n",
        "\n",
        "!pip install torchsummary\n",
        "from torchsummary import summary\n",
        "use_cuda = torch.cuda.is_available()\n",
        "device = torch.device(\"cuda\" if use_cuda else \"cpu\")\n",
        "model = Net().to(device)\n",
        "summary(model, input_size=(1, 28, 28))"
      ],
      "metadata": {
        "colab": {
          "base_uri": "https://localhost:8080/",
          "height": 1000
        },
        "id": "3VihGd5TeIHy",
        "outputId": "5c28156c-88ad-45f8-99cf-56af48ad2ad7"
      },
      "execution_count": 1,
      "outputs": [
        {
          "output_type": "stream",
          "name": "stderr",
          "text": [
            "100%|██████████| 9.91M/9.91M [00:00<00:00, 37.2MB/s]\n",
            "100%|██████████| 28.9k/28.9k [00:00<00:00, 1.10MB/s]\n",
            "100%|██████████| 1.65M/1.65M [00:00<00:00, 9.83MB/s]\n",
            "100%|██████████| 4.54k/4.54k [00:00<00:00, 4.98MB/s]\n"
          ]
        },
        {
          "output_type": "stream",
          "name": "stdout",
          "text": [
            "Epoch 1\n"
          ]
        },
        {
          "output_type": "stream",
          "name": "stderr",
          "text": [
            "\r  0%|          | 0/118 [00:00<?, ?it/s]/usr/local/lib/python3.12/dist-packages/torch/utils/data/dataloader.py:666: UserWarning: 'pin_memory' argument is set as true but no accelerator is found, then device pinned memory won't be used.\n",
            "  warnings.warn(warn_msg)\n",
            "Train: Loss=0.1329 Batch_id=117 Accuracy=79.06: 100%|██████████| 118/118 [01:01<00:00,  1.91it/s]\n"
          ]
        },
        {
          "output_type": "stream",
          "name": "stdout",
          "text": [
            "Test set: Average loss: 0.0003, Accuracy: 57601/60000 (96.00%)\n",
            "\n",
            "Epoch 2\n"
          ]
        },
        {
          "output_type": "stream",
          "name": "stderr",
          "text": [
            "Train: Loss=0.0805 Batch_id=117 Accuracy=93.02: 100%|██████████| 118/118 [00:59<00:00,  1.98it/s]\n"
          ]
        },
        {
          "output_type": "stream",
          "name": "stdout",
          "text": [
            "Test set: Average loss: 0.0002, Accuracy: 58276/60000 (97.13%)\n",
            "\n",
            "Epoch 3\n"
          ]
        },
        {
          "output_type": "stream",
          "name": "stderr",
          "text": [
            "Train: Loss=0.1162 Batch_id=117 Accuracy=94.06: 100%|██████████| 118/118 [00:59<00:00,  1.98it/s]\n"
          ]
        },
        {
          "output_type": "stream",
          "name": "stdout",
          "text": [
            "Test set: Average loss: 0.0001, Accuracy: 58768/60000 (97.95%)\n",
            "\n",
            "Epoch 4\n"
          ]
        },
        {
          "output_type": "stream",
          "name": "stderr",
          "text": [
            "Train: Loss=0.0949 Batch_id=117 Accuracy=94.44: 100%|██████████| 118/118 [01:01<00:00,  1.91it/s]\n"
          ]
        },
        {
          "output_type": "stream",
          "name": "stdout",
          "text": [
            "Test set: Average loss: 0.0001, Accuracy: 58986/60000 (98.31%)\n",
            "\n",
            "Epoch 5\n"
          ]
        },
        {
          "output_type": "stream",
          "name": "stderr",
          "text": [
            "Train: Loss=0.0593 Batch_id=117 Accuracy=94.86: 100%|██████████| 118/118 [01:02<00:00,  1.90it/s]\n"
          ]
        },
        {
          "output_type": "stream",
          "name": "stdout",
          "text": [
            "Test set: Average loss: 0.0001, Accuracy: 59075/60000 (98.46%)\n",
            "\n",
            "Epoch 6\n"
          ]
        },
        {
          "output_type": "stream",
          "name": "stderr",
          "text": [
            "Train: Loss=0.0870 Batch_id=117 Accuracy=94.89: 100%|██████████| 118/118 [01:02<00:00,  1.89it/s]\n"
          ]
        },
        {
          "output_type": "stream",
          "name": "stdout",
          "text": [
            "Test set: Average loss: 0.0001, Accuracy: 58762/60000 (97.94%)\n",
            "\n",
            "Epoch 7\n"
          ]
        },
        {
          "output_type": "stream",
          "name": "stderr",
          "text": [
            "Train: Loss=0.0662 Batch_id=117 Accuracy=95.05: 100%|██████████| 118/118 [01:02<00:00,  1.88it/s]\n"
          ]
        },
        {
          "output_type": "stream",
          "name": "stdout",
          "text": [
            "Test set: Average loss: 0.0001, Accuracy: 59204/60000 (98.67%)\n",
            "\n",
            "Epoch 8\n"
          ]
        },
        {
          "output_type": "stream",
          "name": "stderr",
          "text": [
            "Train: Loss=0.0741 Batch_id=117 Accuracy=95.17: 100%|██████████| 118/118 [01:02<00:00,  1.90it/s]\n"
          ]
        },
        {
          "output_type": "stream",
          "name": "stdout",
          "text": [
            "Test set: Average loss: 0.0001, Accuracy: 59241/60000 (98.73%)\n",
            "\n",
            "Epoch 9\n"
          ]
        },
        {
          "output_type": "stream",
          "name": "stderr",
          "text": [
            "Train: Loss=0.0932 Batch_id=117 Accuracy=95.20: 100%|██████████| 118/118 [01:03<00:00,  1.86it/s]\n"
          ]
        },
        {
          "output_type": "stream",
          "name": "stdout",
          "text": [
            "Test set: Average loss: 0.0001, Accuracy: 59327/60000 (98.88%)\n",
            "\n",
            "Epoch 10\n"
          ]
        },
        {
          "output_type": "stream",
          "name": "stderr",
          "text": [
            "Train: Loss=0.1169 Batch_id=117 Accuracy=95.28: 100%|██████████| 118/118 [01:02<00:00,  1.88it/s]\n"
          ]
        },
        {
          "output_type": "stream",
          "name": "stdout",
          "text": [
            "Test set: Average loss: 0.0001, Accuracy: 59345/60000 (98.91%)\n",
            "\n",
            "Epoch 11\n"
          ]
        },
        {
          "output_type": "stream",
          "name": "stderr",
          "text": [
            "Train: Loss=0.0697 Batch_id=117 Accuracy=95.27: 100%|██████████| 118/118 [01:02<00:00,  1.88it/s]\n"
          ]
        },
        {
          "output_type": "stream",
          "name": "stdout",
          "text": [
            "Test set: Average loss: 0.0001, Accuracy: 59293/60000 (98.82%)\n",
            "\n",
            "Epoch 12\n"
          ]
        },
        {
          "output_type": "stream",
          "name": "stderr",
          "text": [
            "Train: Loss=0.1554 Batch_id=117 Accuracy=95.47: 100%|██████████| 118/118 [01:01<00:00,  1.90it/s]\n"
          ]
        },
        {
          "output_type": "stream",
          "name": "stdout",
          "text": [
            "Test set: Average loss: 0.0001, Accuracy: 59378/60000 (98.96%)\n",
            "\n",
            "Epoch 13\n"
          ]
        },
        {
          "output_type": "stream",
          "name": "stderr",
          "text": [
            "Train: Loss=0.0563 Batch_id=117 Accuracy=95.48: 100%|██████████| 118/118 [01:02<00:00,  1.89it/s]\n"
          ]
        },
        {
          "output_type": "stream",
          "name": "stdout",
          "text": [
            "Test set: Average loss: 0.0001, Accuracy: 59326/60000 (98.88%)\n",
            "\n",
            "Epoch 14\n"
          ]
        },
        {
          "output_type": "stream",
          "name": "stderr",
          "text": [
            "Train: Loss=0.0496 Batch_id=117 Accuracy=95.48: 100%|██████████| 118/118 [01:02<00:00,  1.90it/s]\n"
          ]
        },
        {
          "output_type": "stream",
          "name": "stdout",
          "text": [
            "Test set: Average loss: 0.0001, Accuracy: 59423/60000 (99.04%)\n",
            "\n",
            "Epoch 15\n"
          ]
        },
        {
          "output_type": "stream",
          "name": "stderr",
          "text": [
            "Train: Loss=0.1797 Batch_id=117 Accuracy=95.47: 100%|██████████| 118/118 [01:01<00:00,  1.91it/s]\n"
          ]
        },
        {
          "output_type": "stream",
          "name": "stdout",
          "text": [
            "Test set: Average loss: 0.0001, Accuracy: 59348/60000 (98.91%)\n",
            "\n",
            "Epoch 16\n"
          ]
        },
        {
          "output_type": "stream",
          "name": "stderr",
          "text": [
            "Train: Loss=0.1000 Batch_id=117 Accuracy=95.55: 100%|██████████| 118/118 [01:00<00:00,  1.95it/s]\n"
          ]
        },
        {
          "output_type": "stream",
          "name": "stdout",
          "text": [
            "Test set: Average loss: 0.0001, Accuracy: 59319/60000 (98.86%)\n",
            "\n",
            "Epoch 17\n"
          ]
        },
        {
          "output_type": "stream",
          "name": "stderr",
          "text": [
            "Train: Loss=0.0742 Batch_id=117 Accuracy=95.61: 100%|██████████| 118/118 [01:07<00:00,  1.74it/s]\n"
          ]
        },
        {
          "output_type": "stream",
          "name": "stdout",
          "text": [
            "Test set: Average loss: 0.0000, Accuracy: 59517/60000 (99.19%)\n",
            "\n",
            "Epoch 18\n"
          ]
        },
        {
          "output_type": "stream",
          "name": "stderr",
          "text": [
            "Train: Loss=0.0216 Batch_id=117 Accuracy=95.59: 100%|██████████| 118/118 [01:04<00:00,  1.82it/s]\n"
          ]
        },
        {
          "output_type": "stream",
          "name": "stdout",
          "text": [
            "Test set: Average loss: 0.0000, Accuracy: 59560/60000 (99.27%)\n",
            "\n",
            "Epoch 19\n"
          ]
        },
        {
          "output_type": "stream",
          "name": "stderr",
          "text": [
            "Train: Loss=0.0638 Batch_id=117 Accuracy=95.69: 100%|██████████| 118/118 [01:01<00:00,  1.92it/s]\n"
          ]
        },
        {
          "output_type": "stream",
          "name": "stdout",
          "text": [
            "Test set: Average loss: 0.0000, Accuracy: 59559/60000 (99.27%)\n",
            "\n",
            "Epoch 20\n"
          ]
        },
        {
          "output_type": "stream",
          "name": "stderr",
          "text": [
            "Train: Loss=0.1230 Batch_id=117 Accuracy=95.66: 100%|██████████| 118/118 [01:01<00:00,  1.91it/s]\n"
          ]
        },
        {
          "output_type": "stream",
          "name": "stdout",
          "text": [
            "Test set: Average loss: 0.0001, Accuracy: 59396/60000 (98.99%)\n",
            "\n",
            "Requirement already satisfied: torchsummary in /usr/local/lib/python3.12/dist-packages (1.5.1)\n",
            "----------------------------------------------------------------\n",
            "        Layer (type)               Output Shape         Param #\n",
            "================================================================\n",
            "            Conv2d-1            [-1, 8, 28, 28]              80\n",
            "       BatchNorm2d-2            [-1, 8, 28, 28]              16\n",
            "            Conv2d-3           [-1, 16, 28, 28]           1,168\n",
            "       BatchNorm2d-4           [-1, 16, 28, 28]              32\n",
            "         MaxPool2d-5           [-1, 16, 14, 14]               0\n",
            "            Conv2d-6           [-1, 32, 12, 12]           4,640\n",
            "       BatchNorm2d-7           [-1, 32, 12, 12]              64\n",
            "         MaxPool2d-8             [-1, 32, 6, 6]               0\n",
            "            Conv2d-9              [-1, 8, 6, 6]             264\n",
            "           Conv2d-10             [-1, 16, 4, 4]           1,168\n",
            "      BatchNorm2d-11             [-1, 16, 4, 4]              32\n",
            "           Linear-12                   [-1, 45]          11,565\n",
            "           Linear-13                   [-1, 10]             460\n",
            "          Dropout-14                   [-1, 10]               0\n",
            "================================================================\n",
            "Total params: 19,489\n",
            "Trainable params: 19,489\n",
            "Non-trainable params: 0\n",
            "----------------------------------------------------------------\n",
            "Input size (MB): 0.00\n",
            "Forward/backward pass size (MB): 0.40\n",
            "Params size (MB): 0.07\n",
            "Estimated Total Size (MB): 0.47\n",
            "----------------------------------------------------------------\n"
          ]
        },
        {
          "output_type": "display_data",
          "data": {
            "text/plain": [
              "<Figure size 1500x1000 with 4 Axes>"
            ],
            "image/png": "[encoded data removed]"
          },
          "metadata": {}
        }
      ]
    },
    {
      "cell_type": "code",
      "source": [],
      "metadata": {
        "id": "4eMYnrRwcPVy"
      },
      "execution_count": null,
      "outputs": []
    }
  ]
}
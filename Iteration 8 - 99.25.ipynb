{
  "nbformat": 4,
  "nbformat_minor": 0,
  "metadata": {
    "colab": {
      "provenance": []
    },
    "kernelspec": {
      "name": "python3",
      "display_name": "Python 3"
    },
    "language_info": {
      "name": "python"
    }
  },
  "cells": [
    {
      "cell_type": "code",
      "source": [
        "import torch\n",
        "import torch.nn as nn\n",
        "import torch.nn.functional as F\n",
        "import torch.optim as optim\n",
        "from torchvision import datasets, transforms\n",
        "import matplotlib.pyplot as plt\n",
        "from tqdm import tqdm\n",
        "\n",
        "# CUDA?\n",
        "cuda = torch.cuda.is_available()\n",
        "\n",
        "# Train data transformations\n",
        "train_transforms = transforms.Compose([\n",
        "    transforms.RandomApply([transforms.CenterCrop(22), ], p=0.1),\n",
        "    transforms.Resize((28, 28)),\n",
        "    transforms.RandomRotation((-15., 15.), fill=0),\n",
        "    transforms.ToTensor(),\n",
        "    transforms.Normalize((0.1307,), (0.3081,)),\n",
        "    ])\n",
        "\n",
        "# Test data transformations\n",
        "test_transforms = transforms.Compose([\n",
        "    transforms.ToTensor(),\n",
        "    transforms.Normalize((0.1307,), (0.3081,))\n",
        "    ])\n",
        "\n",
        "train_data = datasets.MNIST('../data', train=True, download=True, transform=train_transforms)\n",
        "test_data = datasets.MNIST('../data', train=False, download=True, transform=test_transforms)\n",
        "\n",
        "batch_size = 512\n",
        "\n",
        "train_kwargs = {'batch_size': batch_size, 'shuffle': True, 'num_workers': 2, 'pin_memory': True}\n",
        "test_kwargs = {'batch_size': batch_size, 'shuffle': False, 'num_workers': 2, 'pin_memory': True}\n",
        "\n",
        "train_loader = torch.utils.data.DataLoader(train_data, **train_kwargs)\n",
        "test_loader = torch.utils.data.DataLoader(test_data, **test_kwargs)\n",
        "\n",
        "class Net(nn.Module):\n",
        "    #This defines the structure of the NN.\n",
        "    def __init__(self):\n",
        "        super(Net, self).__init__()\n",
        "        #28X28\n",
        "        self.conv1 = nn.Conv2d(1, 8, kernel_size=3, padding=1) # 28X28X8\n",
        "        self.bn1 = nn.BatchNorm2d(8)   # 28x28X8\n",
        "        self.conv2 = nn.Conv2d(8, 16, kernel_size=3, padding=1) # 28X28X16\n",
        "        self.bn2 = nn.BatchNorm2d(16)   # 28X28X16\n",
        "        self.pool1 = nn.MaxPool2d(2, 2) # 14X14X16\n",
        "        self.conv3 = nn.Conv2d(16, 24, kernel_size=3) # 12X12X24\n",
        "        self.bn3 = nn.BatchNorm2d(24)   # 12X12X12\n",
        "        self.pool2 = nn.MaxPool2d(2, 2) # 6X6X24\n",
        "        self.conv4 = nn.Conv2d(24, 32, kernel_size=3) # 4X4X32\n",
        "        self.bn4 = nn.BatchNorm2d(32)   # 4X4X32\n",
        "        self.conv5 = nn.Conv2d(32, 8, kernel_size=1) # 4X4X8\n",
        "        self.fc1 = nn.Linear(8*4*4, 50)\n",
        "        self.drop = nn.Dropout(p=0.1)\n",
        "        self.fc2 = nn.Linear(50, 10)\n",
        "\n",
        "    def forward(self, x):\n",
        "        x = F.relu(self.bn1(self.conv1(x)), 2)\n",
        "        x = F.relu(self.bn2(self.conv2(x)), 2)\n",
        "        x = self.pool1(x)\n",
        "        x = F.relu(self.bn3(self.conv3(x)), 2)\n",
        "        x = self.pool2(x)\n",
        "        x = F.relu(self.bn4(self.conv4(x)), 2)\n",
        "        x = self.conv5(x)\n",
        "        x = x.view(-1,8*4*4)\n",
        "        x = F.relu(self.fc1(x))\n",
        "        x = self.drop(x)\n",
        "        x = self.fc2(x)\n",
        "        return F.log_softmax(x, dim=1)\n",
        "\n",
        "# class Net(nn.Module):\n",
        "#     #This defines the structure of the NN.\n",
        "#     def __init__(self):\n",
        "#         super(Net, self).__init__()\n",
        "#         self.conv1 = nn.Conv2d(1, 8, 3)   # 28x28 -> 26x26\n",
        "#         self.bn1 = nn.BatchNorm2d(8)   # 26x26 -> 26x26\n",
        "\n",
        "#         self.conv2 = nn.Conv2d(8, 16, 3)  # 26x26 -> 24x24\n",
        "#         self.bn2 = nn.BatchNorm2d(16)  # 26x26 -> 24x24\n",
        "#         self.pool1 = nn.MaxPool2d(2, 2) # 24x24 -> 12x12\n",
        "\n",
        "#         self.conv3 = nn.Conv2d(16, 32, 3)  # 24x24 -> 22x22\n",
        "#         self.bn3 = nn.BatchNorm2d(32)  # 22x22 -> 22x22\n",
        "\n",
        "#         self.conv4 = nn.Conv2d(32, 64, 3)  # 11x11 -> 9x9\n",
        "#         self.bn4 = nn.BatchNorm2d(64)  # 9x9 -> 9x9\n",
        "\n",
        "#         self.conv5 = nn.Conv2d(64, 128, 3)  # 9x9 -> 7x7\n",
        "#         self.bn5 = nn.BatchNorm2d(128)  # 7x7 -> 7x7\n",
        "\n",
        "#         self.conv6 = nn.Conv2d(128, 256, 3)  # 7x7 -> 5x5\n",
        "#         self.bn6 = nn.BatchNorm2d(256)  # 5x5 -> 5x5\n",
        "\n",
        "#         self.conv7 = nn.Conv2d(256, 128, 1)  # 5x5 -> 5x5\n",
        "#         self.bn7 = nn.BatchNorm2d(128)  # 5x5 -> 5x5\n",
        "\n",
        "#         self.conv8 = nn.Conv2d(128, 128, 1)  # 5x5 -> 3x3\n",
        "#         self.bn8 = nn.BatchNorm2d(128)  # 3x3 -> 3x3\n",
        "\n",
        "\n",
        "#         self.fc1 = nn.Linear(128*5*5, 128)\n",
        "#         self.drop = nn.Dropout(p=0.1)\n",
        "#         self.fc2 = nn.Linear(128, 10)\n",
        "\n",
        "#     def forward(self, x):\n",
        "#         x = F.relu(self.bn1(self.conv1(x)))\n",
        "#         x = F.relu(self.bn2(self.conv2(x)))\n",
        "#         x = self.pool(F.relu(self.bn3(self.conv3(x))))\n",
        "#         x = F.relu(self.bn4(self.conv4(x)))\n",
        "#         x = F.relu(self.bn5(self.conv5(x)))\n",
        "#         x = F.relu(self.bn6(self.conv6(x)))\n",
        "#         x = F.relu(self.bn7(self.conv7(x)))\n",
        "#         x = F.relu(self.bn8(self.conv8(x)))\n",
        "#         x = x.view(x.size(0), -1)\n",
        "#         x = F.relu(self.fc1(x))\n",
        "#         x = self.drop(x)\n",
        "#         x = self.fc2(x)\n",
        "#         return F.log_softmax(x, dim=1)\n",
        "\n",
        "# class Net(nn.Module):\n",
        "#     #This defines the structure of the NN.\n",
        "#     def __init__(self):\n",
        "#         super(Net, self).__init__()\n",
        "#         self.conv1 = nn.Conv2d(1, 32, 3, padding=1)   # 28x28 -> 28x28\n",
        "#         self.conv2 = nn.Conv2d(32, 64, 3, padding=1)  # 28x28 -> 28x28\n",
        "#         self.pool = nn.MaxPool2d(2, 2)                # 28x28 -> 14x14\n",
        "#         self.fc1 = nn.Linear(64*14*14, 128)\n",
        "#         self.fc2 = nn.Linear(128, 10)\n",
        "\n",
        "#     def forward(self, x):\n",
        "#         x = F.relu(self.conv1(x))\n",
        "#         x = self.pool(F.relu(self.conv2(x)))\n",
        "#         x = x.view(x.size(0), -1)\n",
        "#         x = F.relu(self.fc1(x))\n",
        "#         x = self.fc2(x)\n",
        "#         return F.log_softmax(x, dim=1)\n",
        "\n",
        "# Data to plot accuracy and loss graphs\n",
        "train_losses = []\n",
        "test_losses = []\n",
        "train_acc = []\n",
        "test_acc = []\n",
        "\n",
        "test_incorrect_pred = {'images': [], 'ground_truths': [], 'predicted_vals': []}\n",
        "\n",
        "def GetCorrectPredCount(pPrediction, pLabels):\n",
        "  return pPrediction.argmax(dim=1).eq(pLabels).sum().item()\n",
        "\n",
        "def train(model, device, train_loader, optimizer, criterion):\n",
        "  model.train()\n",
        "  pbar = tqdm(train_loader)\n",
        "\n",
        "  train_loss = 0\n",
        "  correct = 0\n",
        "  processed = 0\n",
        "\n",
        "  for batch_idx, (data, target) in enumerate(pbar):\n",
        "    data, target = data.to(device), target.to(device)\n",
        "    optimizer.zero_grad()\n",
        "\n",
        "    # Predict\n",
        "    pred = model(data)\n",
        "\n",
        "    # Calculate loss\n",
        "    loss = criterion(pred, target)\n",
        "    train_loss+=loss.item()\n",
        "\n",
        "    # Backpropagation\n",
        "    loss.backward()\n",
        "    optimizer.step()\n",
        "\n",
        "    correct += GetCorrectPredCount(pred, target)\n",
        "    processed += len(data)\n",
        "\n",
        "    pbar.set_description(desc= f'Train: Loss={loss.item():0.4f} Batch_id={batch_idx} Accuracy={100*correct/processed:0.2f}')\n",
        "\n",
        "  train_acc.append(100*correct/processed)\n",
        "  train_losses.append(train_loss/len(train_loader))\n",
        "\n",
        "def test(model, device, test_loader, criterion):\n",
        "    model.eval()\n",
        "\n",
        "    test_loss = 0\n",
        "    correct = 0\n",
        "\n",
        "    with torch.no_grad():\n",
        "        for batch_idx, (data, target) in enumerate(test_loader):\n",
        "            data, target = data.to(device), target.to(device)\n",
        "\n",
        "            output = model(data)\n",
        "            test_loss += criterion(output, target).item()  # sum up batch loss\n",
        "\n",
        "            correct += GetCorrectPredCount(output, target)\n",
        "\n",
        "\n",
        "    test_loss /= len(test_loader.dataset)\n",
        "    test_acc.append(100. * correct / len(test_loader.dataset))\n",
        "    test_losses.append(test_loss)\n",
        "\n",
        "    print('Test set: Average loss: {:.4f}, Accuracy: {}/{} ({:.2f}%)\\n'.format(\n",
        "        test_loss, correct, len(test_loader.dataset),\n",
        "        100. * correct / len(test_loader.dataset)))\n",
        "\n",
        "device = torch.device(\"cuda\" if torch.cuda.is_available() else \"cpu\")\n",
        "model = Net().to(device)\n",
        "optimizer = optim.Adam(model.parameters(), lr=1e-3)   # faster convergence\n",
        "scheduler = optim.lr_scheduler.StepLR(optimizer, step_size=15, gamma=0.1)\n",
        "# New Line\n",
        "criterion = nn.CrossEntropyLoss()\n",
        "num_epochs = 20\n",
        "\n",
        "for epoch in range(1, num_epochs+1):\n",
        "  print(f'Epoch {epoch}')\n",
        "  train(model, device, train_loader, optimizer, criterion)\n",
        "  test(model, device, train_loader, criterion)\n",
        "  #scheduler.step()\n",
        "\n",
        "fig, axs = plt.subplots(2,2,figsize=(15,10))\n",
        "axs[0, 0].plot(train_losses)\n",
        "axs[0, 0].set_title(\"Training Loss\")\n",
        "axs[1, 0].plot(train_acc)\n",
        "axs[1, 0].set_title(\"Training Accuracy\")\n",
        "axs[0, 1].plot(test_losses)\n",
        "axs[0, 1].set_title(\"Test Loss\")\n",
        "axs[1, 1].plot(test_acc)\n",
        "axs[1, 1].set_title(\"Test Accuracy\")\n",
        "\n",
        "!pip install torchsummary\n",
        "from torchsummary import summary\n",
        "use_cuda = torch.cuda.is_available()\n",
        "device = torch.device(\"cuda\" if use_cuda else \"cpu\")\n",
        "model = Net().to(device)\n",
        "summary(model, input_size=(1, 28, 28))"
      ],
      "metadata": {
        "colab": {
          "base_uri": "https://localhost:8080/",
          "height": 1000
        },
        "id": "3VihGd5TeIHy",
        "outputId": "4a35fa5f-16ad-4b7b-ca00-2a014349fea2"
      },
      "execution_count": 1,
      "outputs": [
        {
          "output_type": "stream",
          "name": "stderr",
          "text": [
            "100%|██████████| 9.91M/9.91M [00:00<00:00, 16.8MB/s]\n",
            "100%|██████████| 28.9k/28.9k [00:00<00:00, 497kB/s]\n",
            "100%|██████████| 1.65M/1.65M [00:00<00:00, 4.69MB/s]\n",
            "100%|██████████| 4.54k/4.54k [00:00<00:00, 9.53MB/s]\n"
          ]
        },
        {
          "output_type": "stream",
          "name": "stdout",
          "text": [
            "Epoch 1\n"
          ]
        },
        {
          "output_type": "stream",
          "name": "stderr",
          "text": [
            "\r  0%|          | 0/118 [00:00<?, ?it/s]/usr/local/lib/python3.12/dist-packages/torch/utils/data/dataloader.py:666: UserWarning: 'pin_memory' argument is set as true but no accelerator is found, then device pinned memory won't be used.\n",
            "  warnings.warn(warn_msg)\n",
            "Train: Loss=0.0936 Batch_id=117 Accuracy=79.46: 100%|██████████| 118/118 [00:58<00:00,  2.02it/s]\n"
          ]
        },
        {
          "output_type": "stream",
          "name": "stdout",
          "text": [
            "Test set: Average loss: 0.0003, Accuracy: 57625/60000 (96.04%)\n",
            "\n",
            "Epoch 2\n"
          ]
        },
        {
          "output_type": "stream",
          "name": "stderr",
          "text": [
            "Train: Loss=0.0844 Batch_id=117 Accuracy=96.59: 100%|██████████| 118/118 [00:58<00:00,  2.02it/s]\n"
          ]
        },
        {
          "output_type": "stream",
          "name": "stdout",
          "text": [
            "Test set: Average loss: 0.0001, Accuracy: 58632/60000 (97.72%)\n",
            "\n",
            "Epoch 3\n"
          ]
        },
        {
          "output_type": "stream",
          "name": "stderr",
          "text": [
            "Train: Loss=0.0980 Batch_id=117 Accuracy=97.52: 100%|██████████| 118/118 [00:57<00:00,  2.05it/s]\n"
          ]
        },
        {
          "output_type": "stream",
          "name": "stdout",
          "text": [
            "Test set: Average loss: 0.0001, Accuracy: 58910/60000 (98.18%)\n",
            "\n",
            "Epoch 4\n"
          ]
        },
        {
          "output_type": "stream",
          "name": "stderr",
          "text": [
            "Train: Loss=0.0607 Batch_id=117 Accuracy=98.03: 100%|██████████| 118/118 [00:57<00:00,  2.06it/s]\n"
          ]
        },
        {
          "output_type": "stream",
          "name": "stdout",
          "text": [
            "Test set: Average loss: 0.0001, Accuracy: 58907/60000 (98.18%)\n",
            "\n",
            "Epoch 5\n"
          ]
        },
        {
          "output_type": "stream",
          "name": "stderr",
          "text": [
            "Train: Loss=0.0621 Batch_id=117 Accuracy=98.16: 100%|██████████| 118/118 [00:57<00:00,  2.05it/s]\n"
          ]
        },
        {
          "output_type": "stream",
          "name": "stdout",
          "text": [
            "Test set: Average loss: 0.0001, Accuracy: 59111/60000 (98.52%)\n",
            "\n",
            "Epoch 6\n"
          ]
        },
        {
          "output_type": "stream",
          "name": "stderr",
          "text": [
            "Train: Loss=0.0686 Batch_id=117 Accuracy=98.37: 100%|██████████| 118/118 [00:57<00:00,  2.06it/s]\n"
          ]
        },
        {
          "output_type": "stream",
          "name": "stdout",
          "text": [
            "Test set: Average loss: 0.0001, Accuracy: 59163/60000 (98.61%)\n",
            "\n",
            "Epoch 7\n"
          ]
        },
        {
          "output_type": "stream",
          "name": "stderr",
          "text": [
            "Train: Loss=0.0369 Batch_id=117 Accuracy=98.56: 100%|██████████| 118/118 [00:57<00:00,  2.06it/s]\n"
          ]
        },
        {
          "output_type": "stream",
          "name": "stdout",
          "text": [
            "Test set: Average loss: 0.0001, Accuracy: 59282/60000 (98.80%)\n",
            "\n",
            "Epoch 8\n"
          ]
        },
        {
          "output_type": "stream",
          "name": "stderr",
          "text": [
            "Train: Loss=0.0346 Batch_id=117 Accuracy=98.54: 100%|██████████| 118/118 [00:56<00:00,  2.08it/s]\n"
          ]
        },
        {
          "output_type": "stream",
          "name": "stdout",
          "text": [
            "Test set: Average loss: 0.0001, Accuracy: 59339/60000 (98.90%)\n",
            "\n",
            "Epoch 9\n"
          ]
        },
        {
          "output_type": "stream",
          "name": "stderr",
          "text": [
            "Train: Loss=0.0315 Batch_id=117 Accuracy=98.70: 100%|██████████| 118/118 [00:57<00:00,  2.07it/s]\n"
          ]
        },
        {
          "output_type": "stream",
          "name": "stdout",
          "text": [
            "Test set: Average loss: 0.0001, Accuracy: 59318/60000 (98.86%)\n",
            "\n",
            "Epoch 10\n"
          ]
        },
        {
          "output_type": "stream",
          "name": "stderr",
          "text": [
            "Train: Loss=0.0445 Batch_id=117 Accuracy=98.74: 100%|██████████| 118/118 [01:00<00:00,  1.94it/s]\n"
          ]
        },
        {
          "output_type": "stream",
          "name": "stdout",
          "text": [
            "Test set: Average loss: 0.0001, Accuracy: 59407/60000 (99.01%)\n",
            "\n",
            "Epoch 11\n"
          ]
        },
        {
          "output_type": "stream",
          "name": "stderr",
          "text": [
            "Train: Loss=0.0215 Batch_id=117 Accuracy=98.78: 100%|██████████| 118/118 [00:59<00:00,  1.99it/s]\n"
          ]
        },
        {
          "output_type": "stream",
          "name": "stdout",
          "text": [
            "Test set: Average loss: 0.0001, Accuracy: 59409/60000 (99.02%)\n",
            "\n",
            "Epoch 12\n"
          ]
        },
        {
          "output_type": "stream",
          "name": "stderr",
          "text": [
            "Train: Loss=0.0098 Batch_id=117 Accuracy=98.88: 100%|██████████| 118/118 [00:58<00:00,  2.02it/s]\n"
          ]
        },
        {
          "output_type": "stream",
          "name": "stdout",
          "text": [
            "Test set: Average loss: 0.0001, Accuracy: 59352/60000 (98.92%)\n",
            "\n",
            "Epoch 13\n"
          ]
        },
        {
          "output_type": "stream",
          "name": "stderr",
          "text": [
            "Train: Loss=0.0829 Batch_id=117 Accuracy=98.94: 100%|██████████| 118/118 [00:59<00:00,  2.00it/s]\n"
          ]
        },
        {
          "output_type": "stream",
          "name": "stdout",
          "text": [
            "Test set: Average loss: 0.0001, Accuracy: 59303/60000 (98.84%)\n",
            "\n",
            "Epoch 14\n"
          ]
        },
        {
          "output_type": "stream",
          "name": "stderr",
          "text": [
            "Train: Loss=0.0334 Batch_id=117 Accuracy=98.92: 100%|██████████| 118/118 [00:58<00:00,  2.02it/s]\n"
          ]
        },
        {
          "output_type": "stream",
          "name": "stdout",
          "text": [
            "Test set: Average loss: 0.0001, Accuracy: 59421/60000 (99.03%)\n",
            "\n",
            "Epoch 15\n"
          ]
        },
        {
          "output_type": "stream",
          "name": "stderr",
          "text": [
            "Train: Loss=0.0390 Batch_id=117 Accuracy=99.00: 100%|██████████| 118/118 [00:59<00:00,  1.98it/s]\n"
          ]
        },
        {
          "output_type": "stream",
          "name": "stdout",
          "text": [
            "Test set: Average loss: 0.0001, Accuracy: 59514/60000 (99.19%)\n",
            "\n",
            "Epoch 16\n"
          ]
        },
        {
          "output_type": "stream",
          "name": "stderr",
          "text": [
            "Train: Loss=0.0119 Batch_id=117 Accuracy=99.00: 100%|██████████| 118/118 [00:58<00:00,  2.02it/s]\n"
          ]
        },
        {
          "output_type": "stream",
          "name": "stdout",
          "text": [
            "Test set: Average loss: 0.0001, Accuracy: 59457/60000 (99.09%)\n",
            "\n",
            "Epoch 17\n"
          ]
        },
        {
          "output_type": "stream",
          "name": "stderr",
          "text": [
            "Train: Loss=0.1095 Batch_id=117 Accuracy=99.03: 100%|██████████| 118/118 [01:00<00:00,  1.96it/s]\n"
          ]
        },
        {
          "output_type": "stream",
          "name": "stdout",
          "text": [
            "Test set: Average loss: 0.0001, Accuracy: 59457/60000 (99.09%)\n",
            "\n",
            "Epoch 18\n"
          ]
        },
        {
          "output_type": "stream",
          "name": "stderr",
          "text": [
            "Train: Loss=0.0179 Batch_id=117 Accuracy=99.05: 100%|██████████| 118/118 [00:59<00:00,  1.99it/s]\n"
          ]
        },
        {
          "output_type": "stream",
          "name": "stdout",
          "text": [
            "Test set: Average loss: 0.0001, Accuracy: 59515/60000 (99.19%)\n",
            "\n",
            "Epoch 19\n"
          ]
        },
        {
          "output_type": "stream",
          "name": "stderr",
          "text": [
            "Train: Loss=0.0562 Batch_id=117 Accuracy=99.14: 100%|██████████| 118/118 [00:59<00:00,  1.99it/s]\n"
          ]
        },
        {
          "output_type": "stream",
          "name": "stdout",
          "text": [
            "Test set: Average loss: 0.0000, Accuracy: 59551/60000 (99.25%)\n",
            "\n",
            "Epoch 20\n"
          ]
        },
        {
          "output_type": "stream",
          "name": "stderr",
          "text": [
            "Train: Loss=0.0833 Batch_id=117 Accuracy=99.09: 100%|██████████| 118/118 [00:59<00:00,  1.99it/s]\n"
          ]
        },
        {
          "output_type": "stream",
          "name": "stdout",
          "text": [
            "Test set: Average loss: 0.0000, Accuracy: 59551/60000 (99.25%)\n",
            "\n",
            "Requirement already satisfied: torchsummary in /usr/local/lib/python3.12/dist-packages (1.5.1)\n",
            "----------------------------------------------------------------\n",
            "        Layer (type)               Output Shape         Param #\n",
            "================================================================\n",
            "            Conv2d-1            [-1, 8, 28, 28]              80\n",
            "       BatchNorm2d-2            [-1, 8, 28, 28]              16\n",
            "            Conv2d-3           [-1, 16, 28, 28]           1,168\n",
            "       BatchNorm2d-4           [-1, 16, 28, 28]              32\n",
            "         MaxPool2d-5           [-1, 16, 14, 14]               0\n",
            "            Conv2d-6           [-1, 24, 12, 12]           3,480\n",
            "       BatchNorm2d-7           [-1, 24, 12, 12]              48\n",
            "         MaxPool2d-8             [-1, 24, 6, 6]               0\n",
            "            Conv2d-9             [-1, 32, 4, 4]           6,944\n",
            "      BatchNorm2d-10             [-1, 32, 4, 4]              64\n",
            "           Conv2d-11              [-1, 8, 4, 4]             264\n",
            "           Linear-12                   [-1, 50]           6,450\n",
            "          Dropout-13                   [-1, 50]               0\n",
            "           Linear-14                   [-1, 10]             510\n",
            "================================================================\n",
            "Total params: 19,056\n",
            "Trainable params: 19,056\n",
            "Non-trainable params: 0\n",
            "----------------------------------------------------------------\n",
            "Input size (MB): 0.00\n",
            "Forward/backward pass size (MB): 0.38\n",
            "Params size (MB): 0.07\n",
            "Estimated Total Size (MB): 0.46\n",
            "----------------------------------------------------------------\n"
          ]
        },
        {
          "output_type": "display_data",
          "data": {
            "text/plain": [
              "<Figure size 1500x1000 with 4 Axes>"
            ],
            "image/png": "[encoded data removed]"
          },
          "metadata": {}
        }
      ]
    },
    {
      "cell_type": "code",
      "source": [],
      "metadata": {
        "id": "4eMYnrRwcPVy"
      },
      "execution_count": null,
      "outputs": []
    }
  ]
}